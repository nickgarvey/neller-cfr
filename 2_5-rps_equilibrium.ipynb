{
 "cells": [
  {
   "cell_type": "code",
   "execution_count": 7,
   "metadata": {},
   "outputs": [],
   "source": [
    "import numpy as np\n",
    "import tqdm\n",
    "\n",
    "NUM_ACTIONS = 3\n",
    "\n",
    "\n",
    "class Player:\n",
    "    def __init__(self):\n",
    "        self.strategy = np.array([0.0] * NUM_ACTIONS)\n",
    "        self.regret_sum = np.array([0.0] * NUM_ACTIONS)\n",
    "        self.strategy_sum = np.array([0.0] * NUM_ACTIONS)\n",
    "\n",
    "    def get_strategy(self):\n",
    "        normalizing_sum = 0\n",
    "        for a in range(NUM_ACTIONS):\n",
    "            self.strategy[a] = self.regret_sum[a] if self.regret_sum[a] > 0 else 0\n",
    "            normalizing_sum += self.strategy[a]\n",
    "        for a in range(NUM_ACTIONS):\n",
    "            if normalizing_sum > 0:\n",
    "                self.strategy[a] /= normalizing_sum\n",
    "            else:\n",
    "                self.strategy[a] = 1.0 / NUM_ACTIONS\n",
    "            self.strategy_sum[a] += self.strategy[a]\n",
    "        return self.strategy\n",
    "\n",
    "    def get_action(self):\n",
    "        strategy = self.get_strategy()\n",
    "        return np.random.choice(NUM_ACTIONS, p=strategy)\n",
    "\n",
    "    def update_regret(self, my_action, opp_action):\n",
    "        action_utility = np.array([0.0] * NUM_ACTIONS)\n",
    "        action_utility[opp_action] = 0\n",
    "        action_utility[(opp_action + 1) % NUM_ACTIONS] = 1\n",
    "        action_utility[(opp_action + 2) % NUM_ACTIONS] = -1\n",
    "\n",
    "        self.regret_sum += action_utility - action_utility[my_action]\n",
    "    \n",
    "    def get_avg_strategy(self):\n",
    "        avg_strategy = np.array([0.0] * NUM_ACTIONS)\n",
    "        normalizing_sum = 0\n",
    "        for a in range(NUM_ACTIONS):\n",
    "            normalizing_sum += self.strategy_sum[a]\n",
    "        for a in range(NUM_ACTIONS):\n",
    "            if normalizing_sum > 0:\n",
    "                avg_strategy[a] = self.strategy_sum[a] / normalizing_sum\n",
    "            else:\n",
    "                avg_strategy[a] = 1.0 / NUM_ACTIONS\n",
    "        return avg_strategy"
   ]
  },
  {
   "cell_type": "code",
   "execution_count": 8,
   "metadata": {},
   "outputs": [
    {
     "name": "stderr",
     "output_type": "stream",
     "text": [
      "100%|██████████| 10000/10000 [00:00<00:00, 19213.02it/s]\n"
     ]
    }
   ],
   "source": [
    "me = Player()\n",
    "opp = Player()\n",
    "def train(iterations):\n",
    "    global regret_sum\n",
    "    for _ in tqdm.tqdm(range(iterations)):\n",
    "        my_action = me.get_action()\n",
    "        opp_action = opp.get_action()\n",
    "\n",
    "        me.update_regret(my_action, opp_action)\n",
    "        opp.update_regret(opp_action, my_action)\n",
    "\n",
    "\n",
    "train(10000)"
   ]
  },
  {
   "cell_type": "code",
   "execution_count": 9,
   "metadata": {},
   "outputs": [
    {
     "name": "stdout",
     "output_type": "stream",
     "text": [
      "[0.32480263 0.3349484  0.34024896]\n",
      "[0.3344306  0.33287496 0.33269445]\n"
     ]
    }
   ],
   "source": [
    "# show avg strategy as a float, not exp notation\n",
    "with np.printoptions(suppress=True):\n",
    "    print(me.get_avg_strategy())\n",
    "    print(opp.get_avg_strategy())"
   ]
  },
  {
   "cell_type": "code",
   "execution_count": null,
   "metadata": {},
   "outputs": [],
   "source": []
  }
 ],
 "metadata": {
  "kernelspec": {
   "display_name": ".env",
   "language": "python",
   "name": "python3"
  },
  "language_info": {
   "codemirror_mode": {
    "name": "ipython",
    "version": 3
   },
   "file_extension": ".py",
   "mimetype": "text/x-python",
   "name": "python",
   "nbconvert_exporter": "python",
   "pygments_lexer": "ipython3",
   "version": "3.12.3"
  }
 },
 "nbformat": 4,
 "nbformat_minor": 2
}
