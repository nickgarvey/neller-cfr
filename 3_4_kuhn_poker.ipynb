{
 "cells": [
  {
   "cell_type": "code",
   "execution_count": 45,
   "metadata": {},
   "outputs": [],
   "source": [
    "NUM_ACTIONS = 2\n",
    "\n",
    "\n",
    "class Node:\n",
    "    def __init__(self, info_set):\n",
    "        self.info_set = info_set\n",
    "        self.regret_sum = [0] * NUM_ACTIONS\n",
    "        self.strategy = [0] * NUM_ACTIONS\n",
    "        self.strategy_sum = [0] * NUM_ACTIONS\n",
    "\n",
    "    def get_strategy(self, realization_weight):\n",
    "        normalizing_sum = 0\n",
    "        for i in range(NUM_ACTIONS):\n",
    "            self.strategy[i] = max(self.regret_sum[i], 0)\n",
    "            normalizing_sum += self.strategy[i]\n",
    "        for i in range(NUM_ACTIONS):\n",
    "            if normalizing_sum > 0:\n",
    "                self.strategy[i] /= normalizing_sum\n",
    "            else:\n",
    "                self.strategy[i] = 1 / NUM_ACTIONS\n",
    "            self.strategy_sum[i] += self.strategy[i] * realization_weight\n",
    "        return self.strategy\n",
    "\n",
    "    def get_avg_strategy(self):\n",
    "        avg_strategy = [0] * NUM_ACTIONS\n",
    "        normalizing_sum = 0\n",
    "        for i in range(NUM_ACTIONS):\n",
    "            normalizing_sum += self.strategy_sum[i]\n",
    "        for i in range(NUM_ACTIONS):\n",
    "            if normalizing_sum > 0:\n",
    "                avg_strategy[i] = self.strategy_sum[i] / normalizing_sum\n",
    "            else:\n",
    "                avg_strategy[i] = 1 / NUM_ACTIONS\n",
    "        return avg_strategy\n",
    "\n",
    "    def __str__(self):\n",
    "        return f\"{self.info_set} {self.get_avg_strategy()}\""
   ]
  },
  {
   "cell_type": "code",
   "execution_count": 46,
   "metadata": {},
   "outputs": [],
   "source": [
    "import random\n",
    "import tqdm\n",
    "\n",
    "node_map = {}\n",
    "\n",
    "def train(iterations):\n",
    "    util = 0.0\n",
    "\n",
    "    for _ in tqdm.tqdm(range(iterations)):\n",
    "        cards = [1, 2, 3]\n",
    "        random.shuffle(cards)\n",
    "        util += cfr(cards, \"\", 1, 1)\n",
    "\n",
    "    print(f\"Average game value: {util / iterations}\")\n",
    "    for info_set in sorted(node_map):\n",
    "        print(f\"{info_set}: {node_map[info_set]}\")\n",
    "    return util / iterations\n",
    "\n",
    "\n",
    "def cfr(cards, history, p0, p1):\n",
    "    active_player = len(history) % 2\n",
    "\n",
    "    if len(history) > 1:\n",
    "        terminal_pass = history[-1] == \"p\"\n",
    "        double_bet = history[-2:] == \"bb\"\n",
    "        is_player_card_higher = cards[active_player] > cards[1 - active_player]\n",
    "        if terminal_pass:\n",
    "            if history == \"pp\":\n",
    "                return 1 if is_player_card_higher else -1\n",
    "            return 1\n",
    "        elif double_bet:\n",
    "            return 2 if is_player_card_higher else -2\n",
    "\n",
    "    info_set = str(cards[active_player]) + history\n",
    "    if info_set not in node_map:\n",
    "        node_map[info_set] = Node(info_set)\n",
    "    node = node_map[info_set]\n",
    "\n",
    "    strategy = node.get_strategy(p0 if active_player == 0 else p1)\n",
    "    util = [0] * NUM_ACTIONS\n",
    "    node_util = 0\n",
    "\n",
    "    for a in range(NUM_ACTIONS):\n",
    "        action = \"p\" if a == 0 else \"b\"\n",
    "        next_history = history + action\n",
    "\n",
    "        if active_player == 0:\n",
    "            util[a] = -cfr(cards, next_history, p0 * strategy[a], p1)\n",
    "        else:\n",
    "            util[a] = -cfr(cards, next_history, p0, p1 * strategy[a])\n",
    "        \n",
    "        node_util += strategy[a] * util[a]\n",
    "    \n",
    "    for a in range(NUM_ACTIONS):\n",
    "        regret = util[a] - node_util\n",
    "        node.regret_sum[a] += (p1 if active_player == 0 else p0) * regret\n",
    "    \n",
    "    return node_util"
   ]
  },
  {
   "cell_type": "code",
   "execution_count": 52,
   "metadata": {},
   "outputs": [
    {
     "name": "stderr",
     "output_type": "stream",
     "text": [
      "  0%|          | 0/500000 [00:00<?, ?it/s]"
     ]
    },
    {
     "name": "stderr",
     "output_type": "stream",
     "text": [
      "100%|██████████| 500000/500000 [00:05<00:00, 83706.91it/s]"
     ]
    },
    {
     "name": "stdout",
     "output_type": "stream",
     "text": [
      "Average game value: -0.05617425936737551\n",
      "1: 1 [0.8115925307674753, 0.1884074692325247]\n",
      "1b: 1b [0.999999142258194, 8.577418059925274e-07]\n",
      "1p: 1p [0.6660647204159101, 0.33393527958408986]\n",
      "1pb: 1pb [0.9999994725016587, 5.274983413750445e-07]\n",
      "2: 2 [0.9999991413390302, 8.586609697373528e-07]\n",
      "2b: 2b [0.6661981207247752, 0.3338018792752249]\n",
      "2p: 2p [0.9999926311568398, 7.368843160171232e-06]\n",
      "2pb: 2pb [0.4780271718631045, 0.5219728281368956]\n",
      "3: 3 [0.4373820681306907, 0.5626179318693093]\n",
      "3b: 3b [8.568451646513669e-07, 0.9999991431548354]\n",
      "3p: 3p [8.568451646513669e-07, 0.9999991431548354]\n",
      "3pb: 3pb [9.791716641846843e-07, 0.9999990208283358]\n"
     ]
    },
    {
     "name": "stderr",
     "output_type": "stream",
     "text": [
      "\n"
     ]
    },
    {
     "data": {
      "text/plain": [
       "Fraction(-1, 18)"
      ]
     },
     "execution_count": 52,
     "metadata": {},
     "output_type": "execute_result"
    }
   ],
   "source": [
    "import fractions\n",
    "fractions.Fraction(train(500000)).limit_denominator(50)"
   ]
  }
 ],
 "metadata": {
  "kernelspec": {
   "display_name": ".env",
   "language": "python",
   "name": "python3"
  },
  "language_info": {
   "codemirror_mode": {
    "name": "ipython",
    "version": 3
   },
   "file_extension": ".py",
   "mimetype": "text/x-python",
   "name": "python",
   "nbconvert_exporter": "python",
   "pygments_lexer": "ipython3",
   "version": "3.11.10"
  }
 },
 "nbformat": 4,
 "nbformat_minor": 2
}
